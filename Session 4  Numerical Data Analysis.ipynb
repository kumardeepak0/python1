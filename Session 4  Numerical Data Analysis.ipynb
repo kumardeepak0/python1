{
 "cells": [
  {
   "cell_type": "code",
   "execution_count": 1,
   "id": "4208c549",
   "metadata": {},
   "outputs": [],
   "source": [
    "import pandas as pd\n",
    "import numpy as np\n",
    "import seaborn as sns\n",
    "import matplotlib.pyplot as plt"
   ]
  },
  {
   "cell_type": "code",
   "execution_count": 2,
   "id": "a2efc87f",
   "metadata": {},
   "outputs": [
    {
     "data": {
      "text/html": [
       "<div>\n",
       "<style scoped>\n",
       "    .dataframe tbody tr th:only-of-type {\n",
       "        vertical-align: middle;\n",
       "    }\n",
       "\n",
       "    .dataframe tbody tr th {\n",
       "        vertical-align: top;\n",
       "    }\n",
       "\n",
       "    .dataframe thead th {\n",
       "        text-align: right;\n",
       "    }\n",
       "</style>\n",
       "<table border=\"1\" class=\"dataframe\">\n",
       "  <thead>\n",
       "    <tr style=\"text-align: right;\">\n",
       "      <th></th>\n",
       "      <th>case_id</th>\n",
       "      <th>continent</th>\n",
       "      <th>education_of_employee</th>\n",
       "      <th>has_job_experience</th>\n",
       "      <th>requires_job_training</th>\n",
       "      <th>no_of_employees</th>\n",
       "      <th>yr_of_estab</th>\n",
       "      <th>region_of_employment</th>\n",
       "      <th>prevailing_wage</th>\n",
       "      <th>unit_of_wage</th>\n",
       "      <th>full_time_position</th>\n",
       "      <th>case_status</th>\n",
       "    </tr>\n",
       "  </thead>\n",
       "  <tbody>\n",
       "    <tr>\n",
       "      <th>0</th>\n",
       "      <td>EZYV01</td>\n",
       "      <td>Asia</td>\n",
       "      <td>High School</td>\n",
       "      <td>N</td>\n",
       "      <td>N</td>\n",
       "      <td>14513</td>\n",
       "      <td>2007</td>\n",
       "      <td>West</td>\n",
       "      <td>592.2029</td>\n",
       "      <td>Hour</td>\n",
       "      <td>Y</td>\n",
       "      <td>Denied</td>\n",
       "    </tr>\n",
       "    <tr>\n",
       "      <th>1</th>\n",
       "      <td>EZYV02</td>\n",
       "      <td>Asia</td>\n",
       "      <td>Master's</td>\n",
       "      <td>Y</td>\n",
       "      <td>N</td>\n",
       "      <td>2412</td>\n",
       "      <td>2002</td>\n",
       "      <td>Northeast</td>\n",
       "      <td>83425.6500</td>\n",
       "      <td>Year</td>\n",
       "      <td>Y</td>\n",
       "      <td>Certified</td>\n",
       "    </tr>\n",
       "    <tr>\n",
       "      <th>2</th>\n",
       "      <td>EZYV03</td>\n",
       "      <td>Asia</td>\n",
       "      <td>Bachelor's</td>\n",
       "      <td>N</td>\n",
       "      <td>Y</td>\n",
       "      <td>44444</td>\n",
       "      <td>2008</td>\n",
       "      <td>West</td>\n",
       "      <td>122996.8600</td>\n",
       "      <td>Year</td>\n",
       "      <td>Y</td>\n",
       "      <td>Denied</td>\n",
       "    </tr>\n",
       "    <tr>\n",
       "      <th>3</th>\n",
       "      <td>EZYV04</td>\n",
       "      <td>Asia</td>\n",
       "      <td>Bachelor's</td>\n",
       "      <td>N</td>\n",
       "      <td>N</td>\n",
       "      <td>98</td>\n",
       "      <td>1897</td>\n",
       "      <td>West</td>\n",
       "      <td>83434.0300</td>\n",
       "      <td>Year</td>\n",
       "      <td>Y</td>\n",
       "      <td>Denied</td>\n",
       "    </tr>\n",
       "    <tr>\n",
       "      <th>4</th>\n",
       "      <td>EZYV05</td>\n",
       "      <td>Africa</td>\n",
       "      <td>Master's</td>\n",
       "      <td>Y</td>\n",
       "      <td>N</td>\n",
       "      <td>1082</td>\n",
       "      <td>2005</td>\n",
       "      <td>South</td>\n",
       "      <td>149907.3900</td>\n",
       "      <td>Year</td>\n",
       "      <td>Y</td>\n",
       "      <td>Certified</td>\n",
       "    </tr>\n",
       "    <tr>\n",
       "      <th>...</th>\n",
       "      <td>...</td>\n",
       "      <td>...</td>\n",
       "      <td>...</td>\n",
       "      <td>...</td>\n",
       "      <td>...</td>\n",
       "      <td>...</td>\n",
       "      <td>...</td>\n",
       "      <td>...</td>\n",
       "      <td>...</td>\n",
       "      <td>...</td>\n",
       "      <td>...</td>\n",
       "      <td>...</td>\n",
       "    </tr>\n",
       "    <tr>\n",
       "      <th>25475</th>\n",
       "      <td>EZYV25476</td>\n",
       "      <td>Asia</td>\n",
       "      <td>Bachelor's</td>\n",
       "      <td>Y</td>\n",
       "      <td>Y</td>\n",
       "      <td>2601</td>\n",
       "      <td>2008</td>\n",
       "      <td>South</td>\n",
       "      <td>77092.5700</td>\n",
       "      <td>Year</td>\n",
       "      <td>Y</td>\n",
       "      <td>Certified</td>\n",
       "    </tr>\n",
       "    <tr>\n",
       "      <th>25476</th>\n",
       "      <td>EZYV25477</td>\n",
       "      <td>Asia</td>\n",
       "      <td>High School</td>\n",
       "      <td>Y</td>\n",
       "      <td>N</td>\n",
       "      <td>3274</td>\n",
       "      <td>2006</td>\n",
       "      <td>Northeast</td>\n",
       "      <td>279174.7900</td>\n",
       "      <td>Year</td>\n",
       "      <td>Y</td>\n",
       "      <td>Certified</td>\n",
       "    </tr>\n",
       "    <tr>\n",
       "      <th>25477</th>\n",
       "      <td>EZYV25478</td>\n",
       "      <td>Asia</td>\n",
       "      <td>Master's</td>\n",
       "      <td>Y</td>\n",
       "      <td>N</td>\n",
       "      <td>1121</td>\n",
       "      <td>1910</td>\n",
       "      <td>South</td>\n",
       "      <td>146298.8500</td>\n",
       "      <td>Year</td>\n",
       "      <td>N</td>\n",
       "      <td>Certified</td>\n",
       "    </tr>\n",
       "    <tr>\n",
       "      <th>25478</th>\n",
       "      <td>EZYV25479</td>\n",
       "      <td>Asia</td>\n",
       "      <td>Master's</td>\n",
       "      <td>Y</td>\n",
       "      <td>Y</td>\n",
       "      <td>1918</td>\n",
       "      <td>1887</td>\n",
       "      <td>West</td>\n",
       "      <td>86154.7700</td>\n",
       "      <td>Year</td>\n",
       "      <td>Y</td>\n",
       "      <td>Certified</td>\n",
       "    </tr>\n",
       "    <tr>\n",
       "      <th>25479</th>\n",
       "      <td>EZYV25480</td>\n",
       "      <td>Asia</td>\n",
       "      <td>Bachelor's</td>\n",
       "      <td>Y</td>\n",
       "      <td>N</td>\n",
       "      <td>3195</td>\n",
       "      <td>1960</td>\n",
       "      <td>Midwest</td>\n",
       "      <td>70876.9100</td>\n",
       "      <td>Year</td>\n",
       "      <td>Y</td>\n",
       "      <td>Certified</td>\n",
       "    </tr>\n",
       "  </tbody>\n",
       "</table>\n",
       "<p>25480 rows × 12 columns</p>\n",
       "</div>"
      ],
      "text/plain": [
       "         case_id continent education_of_employee has_job_experience  \\\n",
       "0         EZYV01      Asia           High School                  N   \n",
       "1         EZYV02      Asia              Master's                  Y   \n",
       "2         EZYV03      Asia            Bachelor's                  N   \n",
       "3         EZYV04      Asia            Bachelor's                  N   \n",
       "4         EZYV05    Africa              Master's                  Y   \n",
       "...          ...       ...                   ...                ...   \n",
       "25475  EZYV25476      Asia            Bachelor's                  Y   \n",
       "25476  EZYV25477      Asia           High School                  Y   \n",
       "25477  EZYV25478      Asia              Master's                  Y   \n",
       "25478  EZYV25479      Asia              Master's                  Y   \n",
       "25479  EZYV25480      Asia            Bachelor's                  Y   \n",
       "\n",
       "      requires_job_training  no_of_employees  yr_of_estab  \\\n",
       "0                         N            14513         2007   \n",
       "1                         N             2412         2002   \n",
       "2                         Y            44444         2008   \n",
       "3                         N               98         1897   \n",
       "4                         N             1082         2005   \n",
       "...                     ...              ...          ...   \n",
       "25475                     Y             2601         2008   \n",
       "25476                     N             3274         2006   \n",
       "25477                     N             1121         1910   \n",
       "25478                     Y             1918         1887   \n",
       "25479                     N             3195         1960   \n",
       "\n",
       "      region_of_employment  prevailing_wage unit_of_wage full_time_position  \\\n",
       "0                     West         592.2029         Hour                  Y   \n",
       "1                Northeast       83425.6500         Year                  Y   \n",
       "2                     West      122996.8600         Year                  Y   \n",
       "3                     West       83434.0300         Year                  Y   \n",
       "4                    South      149907.3900         Year                  Y   \n",
       "...                    ...              ...          ...                ...   \n",
       "25475                South       77092.5700         Year                  Y   \n",
       "25476            Northeast      279174.7900         Year                  Y   \n",
       "25477                South      146298.8500         Year                  N   \n",
       "25478                 West       86154.7700         Year                  Y   \n",
       "25479              Midwest       70876.9100         Year                  Y   \n",
       "\n",
       "      case_status  \n",
       "0          Denied  \n",
       "1       Certified  \n",
       "2          Denied  \n",
       "3          Denied  \n",
       "4       Certified  \n",
       "...           ...  \n",
       "25475   Certified  \n",
       "25476   Certified  \n",
       "25477   Certified  \n",
       "25478   Certified  \n",
       "25479   Certified  \n",
       "\n",
       "[25480 rows x 12 columns]"
      ]
     },
     "execution_count": 2,
     "metadata": {},
     "output_type": "execute_result"
    }
   ],
   "source": [
    "file_path=\"C:\\\\Users\\\\hp\\\\Downloads\\\\Visadataset - Visadataset.csv\"\n",
    "visa_df=pd.read_csv(file_path)\n",
    "visa_df"
   ]
  },
  {
   "cell_type": "code",
   "execution_count": 3,
   "id": "3c5267cc",
   "metadata": {},
   "outputs": [
    {
     "data": {
      "text/plain": [
       "0           592.2029\n",
       "1         83425.6500\n",
       "2        122996.8600\n",
       "3         83434.0300\n",
       "4        149907.3900\n",
       "            ...     \n",
       "25475     77092.5700\n",
       "25476    279174.7900\n",
       "25477    146298.8500\n",
       "25478     86154.7700\n",
       "25479     70876.9100\n",
       "Name: prevailing_wage, Length: 25480, dtype: float64"
      ]
     },
     "execution_count": 3,
     "metadata": {},
     "output_type": "execute_result"
    }
   ],
   "source": [
    "visa_df['prevailing_wage']   # come as a series"
   ]
  },
  {
   "cell_type": "code",
   "execution_count": 4,
   "id": "b1a2ca40",
   "metadata": {},
   "outputs": [
    {
     "data": {
      "text/plain": [
       "array([   592.2029,  83425.65  , 122996.86  , ..., 146298.85  ,\n",
       "        86154.77  ,  70876.91  ])"
      ]
     },
     "execution_count": 4,
     "metadata": {},
     "output_type": "execute_result"
    }
   ],
   "source": [
    "visa_df['prevailing_wage'].values "
   ]
  },
  {
   "cell_type": "markdown",
   "id": "e8a4c490",
   "metadata": {},
   "source": [
    "- count\n",
    "- minnimum value\n",
    "- maximum \n",
    "- mean\n",
    "- median"
   ]
  },
  {
   "cell_type": "code",
   "execution_count": 20,
   "id": "0cab7105",
   "metadata": {},
   "outputs": [
    {
     "data": {
      "text/plain": [
       "25480"
      ]
     },
     "execution_count": 20,
     "metadata": {},
     "output_type": "execute_result"
    }
   ],
   "source": [
    "wage_count=round(visa_df['prevailing_wage'].count(),2)\n",
    "wage_count"
   ]
  },
  {
   "cell_type": "code",
   "execution_count": 21,
   "id": "22cf924d",
   "metadata": {},
   "outputs": [
    {
     "data": {
      "text/plain": [
       "2"
      ]
     },
     "execution_count": 21,
     "metadata": {},
     "output_type": "execute_result"
    }
   ],
   "source": [
    "wage_min=round(visa_df['prevailing_wage'].min())\n",
    "wage_min"
   ]
  },
  {
   "cell_type": "code",
   "execution_count": 22,
   "id": "f223138b",
   "metadata": {},
   "outputs": [
    {
     "data": {
      "text/plain": [
       "319210"
      ]
     },
     "execution_count": 22,
     "metadata": {},
     "output_type": "execute_result"
    }
   ],
   "source": [
    "wage_max=round(visa_df['prevailing_wage'].max())\n",
    "wage_max"
   ]
  },
  {
   "cell_type": "code",
   "execution_count": 23,
   "id": "5c213b1a",
   "metadata": {},
   "outputs": [
    {
     "data": {
      "text/plain": [
       "74456"
      ]
     },
     "execution_count": 23,
     "metadata": {},
     "output_type": "execute_result"
    }
   ],
   "source": [
    "wage_mean=round(visa_df['prevailing_wage'].mean())\n",
    "wage_mean"
   ]
  },
  {
   "cell_type": "code",
   "execution_count": 24,
   "id": "4a956457",
   "metadata": {},
   "outputs": [
    {
     "data": {
      "text/plain": [
       "70308"
      ]
     },
     "execution_count": 24,
     "metadata": {},
     "output_type": "execute_result"
    }
   ],
   "source": [
    "wage_median=round(visa_df['prevailing_wage'].median())\n",
    "wage_median"
   ]
  },
  {
   "cell_type": "code",
   "execution_count": 27,
   "id": "0fd353e3",
   "metadata": {},
   "outputs": [
    {
     "data": {
      "text/plain": [
       "52816"
      ]
     },
     "execution_count": 27,
     "metadata": {},
     "output_type": "execute_result"
    }
   ],
   "source": [
    "wage_std=round(visa_df['prevailing_wage'].std())\n",
    "wage_std"
   ]
  },
  {
   "cell_type": "code",
   "execution_count": null,
   "id": "293ca334",
   "metadata": {},
   "outputs": [],
   "source": []
  },
  {
   "cell_type": "code",
   "execution_count": 12,
   "id": "f6bfbed5",
   "metadata": {},
   "outputs": [
    {
     "data": {
      "text/plain": [
       "prevailing_wage\n",
       "82560.2800     2\n",
       "122.6500       2\n",
       "60948.1500     2\n",
       "64357.5800     2\n",
       "108.1200       2\n",
       "              ..\n",
       "25713.9800     1\n",
       "101656.6400    1\n",
       "65665.5500     1\n",
       "50.8813        1\n",
       "70876.9100     1\n",
       "Name: count, Length: 25454, dtype: int64"
      ]
     },
     "execution_count": 12,
     "metadata": {},
     "output_type": "execute_result"
    }
   ],
   "source": [
    "visa_df['prevailing_wage'].value_counts()   # never apply value_counts for the numerical value"
   ]
  },
  {
   "cell_type": "code",
   "execution_count": 28,
   "id": "a7f488c3",
   "metadata": {},
   "outputs": [
    {
     "data": {
      "text/html": [
       "<div>\n",
       "<style scoped>\n",
       "    .dataframe tbody tr th:only-of-type {\n",
       "        vertical-align: middle;\n",
       "    }\n",
       "\n",
       "    .dataframe tbody tr th {\n",
       "        vertical-align: top;\n",
       "    }\n",
       "\n",
       "    .dataframe thead th {\n",
       "        text-align: right;\n",
       "    }\n",
       "</style>\n",
       "<table border=\"1\" class=\"dataframe\">\n",
       "  <thead>\n",
       "    <tr style=\"text-align: right;\">\n",
       "      <th></th>\n",
       "      <th>count</th>\n",
       "      <th>min</th>\n",
       "      <th>max</th>\n",
       "      <th>mean</th>\n",
       "      <th>median</th>\n",
       "      <th>std</th>\n",
       "    </tr>\n",
       "  </thead>\n",
       "  <tbody>\n",
       "    <tr>\n",
       "      <th>orevailing_wage</th>\n",
       "      <td>25480</td>\n",
       "      <td>2</td>\n",
       "      <td>319210</td>\n",
       "      <td>74456</td>\n",
       "      <td>70308</td>\n",
       "      <td>52816</td>\n",
       "    </tr>\n",
       "  </tbody>\n",
       "</table>\n",
       "</div>"
      ],
      "text/plain": [
       "                 count  min     max   mean  median    std\n",
       "orevailing_wage  25480    2  319210  74456   70308  52816"
      ]
     },
     "execution_count": 28,
     "metadata": {},
     "output_type": "execute_result"
    }
   ],
   "source": [
    "dict1={}\n",
    "dict1['count']=wage_count\n",
    "dict1['min']=wage_min\n",
    "dict1['max']=wage_max\n",
    "dict1['mean']=wage_mean\n",
    "dict1['median']=wage_median\n",
    "dict1['std']=wage_std\n",
    "dict1\n",
    "pd.DataFrame(dict1,index=['orevailing_wage'])"
   ]
  },
  {
   "cell_type": "code",
   "execution_count": null,
   "id": "f41b001d",
   "metadata": {},
   "outputs": [],
   "source": [
    "dict={keys=['wage_count','wage_min','wage_max','wage_mean','wage_median','wage_std']}"
   ]
  },
  {
   "cell_type": "markdown",
   "id": "3650e5e0",
   "metadata": {},
   "source": [
    "$USing-List$"
   ]
  },
  {
   "cell_type": "code",
   "execution_count": 29,
   "id": "0b8b16c6",
   "metadata": {},
   "outputs": [
    {
     "data": {
      "text/html": [
       "<div>\n",
       "<style scoped>\n",
       "    .dataframe tbody tr th:only-of-type {\n",
       "        vertical-align: middle;\n",
       "    }\n",
       "\n",
       "    .dataframe tbody tr th {\n",
       "        vertical-align: top;\n",
       "    }\n",
       "\n",
       "    .dataframe thead th {\n",
       "        text-align: right;\n",
       "    }\n",
       "</style>\n",
       "<table border=\"1\" class=\"dataframe\">\n",
       "  <thead>\n",
       "    <tr style=\"text-align: right;\">\n",
       "      <th></th>\n",
       "      <th>prevailing_wages</th>\n",
       "    </tr>\n",
       "  </thead>\n",
       "  <tbody>\n",
       "    <tr>\n",
       "      <th>count</th>\n",
       "      <td>25480</td>\n",
       "    </tr>\n",
       "    <tr>\n",
       "      <th>min</th>\n",
       "      <td>2</td>\n",
       "    </tr>\n",
       "    <tr>\n",
       "      <th>max</th>\n",
       "      <td>319210</td>\n",
       "    </tr>\n",
       "    <tr>\n",
       "      <th>mean</th>\n",
       "      <td>74456</td>\n",
       "    </tr>\n",
       "    <tr>\n",
       "      <th>median</th>\n",
       "      <td>70308</td>\n",
       "    </tr>\n",
       "    <tr>\n",
       "      <th>std</th>\n",
       "      <td>52816</td>\n",
       "    </tr>\n",
       "  </tbody>\n",
       "</table>\n",
       "</div>"
      ],
      "text/plain": [
       "        prevailing_wages\n",
       "count              25480\n",
       "min                    2\n",
       "max               319210\n",
       "mean               74456\n",
       "median             70308\n",
       "std                52816"
      ]
     },
     "execution_count": 29,
     "metadata": {},
     "output_type": "execute_result"
    }
   ],
   "source": [
    "list1=[wage_count,wage_min,wage_max,wage_mean,wage_median,wage_std]\n",
    "pd.DataFrame(list1,columns=['prevailing_wages'],index=['count','min','max','mean','median','std'])"
   ]
  },
  {
   "cell_type": "code",
   "execution_count": 33,
   "id": "0aa9406c",
   "metadata": {},
   "outputs": [
    {
     "data": {
      "text/plain": [
       "dtype('float64')"
      ]
     },
     "execution_count": 33,
     "metadata": {},
     "output_type": "execute_result"
    }
   ],
   "source": [
    "visa_df['prevailing_wage'].dtypes"
   ]
  },
  {
   "cell_type": "code",
   "execution_count": 35,
   "id": "2c159ed3",
   "metadata": {},
   "outputs": [
    {
     "name": "stdout",
     "output_type": "stream",
     "text": [
      "['no_of_employees', 'yr_of_estab', 'prevailing_wage']\n",
      "['case_id', 'continent', 'education_of_employee', 'has_job_experience', 'requires_job_training', 'region_of_employment', 'unit_of_wage', 'full_time_position', 'case_status']\n"
     ]
    }
   ],
   "source": [
    "num=[]\n",
    "cat=[]\n",
    "data_types=visa_df.dtypes\n",
    "dict1=dict(data_types)\n",
    "for i in dict1:\n",
    "    if dict1[i]=='O':\n",
    "        cat.append(i)\n",
    "    else:\n",
    "        num.append(i)\n",
    "    \n",
    "print(num)\n",
    "print(cat)"
   ]
  },
  {
   "cell_type": "code",
   "execution_count": 36,
   "id": "95dff346",
   "metadata": {},
   "outputs": [
    {
     "data": {
      "text/plain": [
       "['no_of_employees', 'yr_of_estab', 'prevailing_wage']"
      ]
     },
     "execution_count": 36,
     "metadata": {},
     "output_type": "execute_result"
    }
   ],
   "source": [
    "dtypes=dict(visa_df.dtypes)\n",
    "num=[i for i in dtypes if dtypes[i]!='O']\n",
    "num"
   ]
  },
  {
   "cell_type": "code",
   "execution_count": 37,
   "id": "efeed9a2",
   "metadata": {},
   "outputs": [
    {
     "data": {
      "text/plain": [
       "['no_of_employees', 'yr_of_estab', 'prevailing_wage']"
      ]
     },
     "execution_count": 37,
     "metadata": {},
     "output_type": "execute_result"
    }
   ],
   "source": [
    "num"
   ]
  },
  {
   "cell_type": "code",
   "execution_count": 38,
   "id": "ad42db2b",
   "metadata": {},
   "outputs": [
    {
     "ename": "NameError",
     "evalue": "name 'prevailing_wage' is not defined",
     "output_type": "error",
     "traceback": [
      "\u001b[1;31m---------------------------------------------------------------------------\u001b[0m",
      "\u001b[1;31mNameError\u001b[0m                                 Traceback (most recent call last)",
      "Cell \u001b[1;32mIn[38], line 2\u001b[0m\n\u001b[0;32m      1\u001b[0m preaviling_wage\u001b[38;5;241m=\u001b[39mvisa_df[\u001b[38;5;124m'\u001b[39m\u001b[38;5;124mprevailing_wage\u001b[39m\u001b[38;5;124m'\u001b[39m]\u001b[38;5;241m.\u001b[39munique()\n\u001b[1;32m----> 2\u001b[0m \u001b[38;5;28;01mfor\u001b[39;00m i \u001b[38;5;129;01min\u001b[39;00m prevailing_wage:\n\u001b[0;32m      3\u001b[0m     count\u001b[38;5;241m=\u001b[39m\u001b[38;5;28mlen\u001b[39m(visa_df[visa_df[\u001b[38;5;124m'\u001b[39m\u001b[38;5;124mprevailing_wage\u001b[39m\u001b[38;5;124m'\u001b[39m]\u001b[38;5;241m==\u001b[39mi])\n\u001b[0;32m      4\u001b[0m     \u001b[38;5;28mprint\u001b[39m(i,\u001b[38;5;124m'\u001b[39m\u001b[38;5;124m:\u001b[39m\u001b[38;5;124m'\u001b[39m,count)\n",
      "\u001b[1;31mNameError\u001b[0m: name 'prevailing_wage' is not defined"
     ]
    }
   ],
   "source": [
    "preaviling_wage=visa_df['prevailing_wage'].unique()\n",
    "for i in prevailing_wage:\n",
    "    count=len(visa_df[visa_df['prevailing_wage']==i])\n",
    "    print(i,':',count)"
   ]
  },
  {
   "cell_type": "code",
   "execution_count": 44,
   "id": "8cce07e6",
   "metadata": {},
   "outputs": [
    {
     "name": "stdout",
     "output_type": "stream",
     "text": [
      "['no_of_employees', 'yr_of_estab', 'prevailing_wage']\n",
      "        no_of_employees\n",
      "count          25480.00\n",
      "min              -26.00\n",
      "max           602069.00\n",
      "mean            5667.04\n",
      "median          2109.00\n",
      "std            22877.93\n",
      "        yr_of_estab\n",
      "count      25480.00\n",
      "min         1800.00\n",
      "max         2016.00\n",
      "mean        1979.41\n",
      "median      1997.00\n",
      "std           42.37\n",
      "        prevailing_wage\n",
      "count          25480.00\n",
      "min                2.14\n",
      "max           319210.27\n",
      "mean           74455.81\n",
      "median         70308.21\n",
      "std            52815.94\n"
     ]
    }
   ],
   "source": [
    "dtypes=dict(visa_df.dtypes)\n",
    "num=[i for i in dtypes if dtypes[i]!='O']\n",
    "print(num)\n",
    "for i in num:\n",
    "    count=round(visa_df[i].count(),2)\n",
    "    MIN=round(visa_df[i].min(),2)\n",
    "    MAX=round(visa_df[i].max(),2)\n",
    "    mean=round(visa_df[i].mean(),2)\n",
    "    median=round(visa_df[i].median(),2)\n",
    "    std=round(visa_df[i].std(),2)\n",
    "\n",
    "    list1=[count,MIN,MAX,mean,median,std]\n",
    "    df=pd.DataFrame(list1,columns=[i],index=['count','min','max','mean','median','std'])\n",
    "    print(df)"
   ]
  },
  {
   "cell_type": "code",
   "execution_count": 54,
   "id": "033a305f",
   "metadata": {},
   "outputs": [
    {
     "name": "stdout",
     "output_type": "stream",
     "text": [
      "['no_of_employees', 'yr_of_estab', 'prevailing_wage']\n"
     ]
    },
    {
     "data": {
      "text/html": [
       "<div>\n",
       "<style scoped>\n",
       "    .dataframe tbody tr th:only-of-type {\n",
       "        vertical-align: middle;\n",
       "    }\n",
       "\n",
       "    .dataframe tbody tr th {\n",
       "        vertical-align: top;\n",
       "    }\n",
       "\n",
       "    .dataframe thead th {\n",
       "        text-align: right;\n",
       "    }\n",
       "</style>\n",
       "<table border=\"1\" class=\"dataframe\">\n",
       "  <thead>\n",
       "    <tr style=\"text-align: right;\">\n",
       "      <th></th>\n",
       "      <th>no_of_employees</th>\n",
       "      <th>yr_of_estab</th>\n",
       "      <th>prevailing_wage</th>\n",
       "    </tr>\n",
       "  </thead>\n",
       "  <tbody>\n",
       "    <tr>\n",
       "      <th>count</th>\n",
       "      <td>25480.00</td>\n",
       "      <td>25480.00</td>\n",
       "      <td>25480.00</td>\n",
       "    </tr>\n",
       "    <tr>\n",
       "      <th>min</th>\n",
       "      <td>-26.00</td>\n",
       "      <td>1800.00</td>\n",
       "      <td>2.14</td>\n",
       "    </tr>\n",
       "    <tr>\n",
       "      <th>max</th>\n",
       "      <td>602069.00</td>\n",
       "      <td>2016.00</td>\n",
       "      <td>319210.27</td>\n",
       "    </tr>\n",
       "    <tr>\n",
       "      <th>mean</th>\n",
       "      <td>5667.04</td>\n",
       "      <td>1979.41</td>\n",
       "      <td>74455.81</td>\n",
       "    </tr>\n",
       "    <tr>\n",
       "      <th>median</th>\n",
       "      <td>2109.00</td>\n",
       "      <td>1997.00</td>\n",
       "      <td>70308.21</td>\n",
       "    </tr>\n",
       "    <tr>\n",
       "      <th>std</th>\n",
       "      <td>22877.93</td>\n",
       "      <td>42.37</td>\n",
       "      <td>52815.94</td>\n",
       "    </tr>\n",
       "  </tbody>\n",
       "</table>\n",
       "</div>"
      ],
      "text/plain": [
       "        no_of_employees  yr_of_estab  prevailing_wage\n",
       "count          25480.00     25480.00         25480.00\n",
       "min              -26.00      1800.00             2.14\n",
       "max           602069.00      2016.00        319210.27\n",
       "mean            5667.04      1979.41         74455.81\n",
       "median          2109.00      1997.00         70308.21\n",
       "std            22877.93        42.37         52815.94"
      ]
     },
     "execution_count": 54,
     "metadata": {},
     "output_type": "execute_result"
    }
   ],
   "source": [
    "dict1={}\n",
    "dtypes=dict(visa_df.dtypes)\n",
    "num=[i for i in dtypes if dtypes[i]!='O']\n",
    "print(num)\n",
    "for i in num:\n",
    "    count=round(visa_df[i].count(),2)\n",
    "    MIN=round(visa_df[i].min(),2)\n",
    "    MAX=round(visa_df[i].max(),2)\n",
    "    mean=round(visa_df[i].mean(),2)\n",
    "    median=round(visa_df[i].median(),2)\n",
    "    std=round(visa_df[i].std(),2)\n",
    "\n",
    "    list1=[count,MIN,MAX,mean,median,std]\n",
    "    dict1[i]=list1\n",
    "df=pd.DataFrame(dict1,index=['count','min','max','mean','median','std'])\n",
    "df"
   ]
  },
  {
   "cell_type": "code",
   "execution_count": 55,
   "id": "bf399e27",
   "metadata": {},
   "outputs": [
    {
     "data": {
      "text/html": [
       "<div>\n",
       "<style scoped>\n",
       "    .dataframe tbody tr th:only-of-type {\n",
       "        vertical-align: middle;\n",
       "    }\n",
       "\n",
       "    .dataframe tbody tr th {\n",
       "        vertical-align: top;\n",
       "    }\n",
       "\n",
       "    .dataframe thead th {\n",
       "        text-align: right;\n",
       "    }\n",
       "</style>\n",
       "<table border=\"1\" class=\"dataframe\">\n",
       "  <thead>\n",
       "    <tr style=\"text-align: right;\">\n",
       "      <th></th>\n",
       "      <th>no_of_employees</th>\n",
       "      <th>yr_of_estab</th>\n",
       "      <th>prevailing_wage</th>\n",
       "    </tr>\n",
       "  </thead>\n",
       "  <tbody>\n",
       "    <tr>\n",
       "      <th>count</th>\n",
       "      <td>25480.000000</td>\n",
       "      <td>25480.000000</td>\n",
       "      <td>25480.000000</td>\n",
       "    </tr>\n",
       "    <tr>\n",
       "      <th>mean</th>\n",
       "      <td>5667.043210</td>\n",
       "      <td>1979.409929</td>\n",
       "      <td>74455.814592</td>\n",
       "    </tr>\n",
       "    <tr>\n",
       "      <th>std</th>\n",
       "      <td>22877.928848</td>\n",
       "      <td>42.366929</td>\n",
       "      <td>52815.942327</td>\n",
       "    </tr>\n",
       "    <tr>\n",
       "      <th>min</th>\n",
       "      <td>-26.000000</td>\n",
       "      <td>1800.000000</td>\n",
       "      <td>2.136700</td>\n",
       "    </tr>\n",
       "    <tr>\n",
       "      <th>25%</th>\n",
       "      <td>1022.000000</td>\n",
       "      <td>1976.000000</td>\n",
       "      <td>34015.480000</td>\n",
       "    </tr>\n",
       "    <tr>\n",
       "      <th>50%</th>\n",
       "      <td>2109.000000</td>\n",
       "      <td>1997.000000</td>\n",
       "      <td>70308.210000</td>\n",
       "    </tr>\n",
       "    <tr>\n",
       "      <th>75%</th>\n",
       "      <td>3504.000000</td>\n",
       "      <td>2005.000000</td>\n",
       "      <td>107735.512500</td>\n",
       "    </tr>\n",
       "    <tr>\n",
       "      <th>max</th>\n",
       "      <td>602069.000000</td>\n",
       "      <td>2016.000000</td>\n",
       "      <td>319210.270000</td>\n",
       "    </tr>\n",
       "  </tbody>\n",
       "</table>\n",
       "</div>"
      ],
      "text/plain": [
       "       no_of_employees   yr_of_estab  prevailing_wage\n",
       "count     25480.000000  25480.000000     25480.000000\n",
       "mean       5667.043210   1979.409929     74455.814592\n",
       "std       22877.928848     42.366929     52815.942327\n",
       "min         -26.000000   1800.000000         2.136700\n",
       "25%        1022.000000   1976.000000     34015.480000\n",
       "50%        2109.000000   1997.000000     70308.210000\n",
       "75%        3504.000000   2005.000000    107735.512500\n",
       "max      602069.000000   2016.000000    319210.270000"
      ]
     },
     "execution_count": 55,
     "metadata": {},
     "output_type": "execute_result"
    }
   ],
   "source": [
    "visa_df.describe()"
   ]
  },
  {
   "cell_type": "code",
   "execution_count": null,
   "id": "dddd7248",
   "metadata": {},
   "outputs": [],
   "source": [
    "- we implemented describe function with our own python skill"
   ]
  },
  {
   "cell_type": "code",
   "execution_count": 56,
   "id": "dc1d2e4e",
   "metadata": {},
   "outputs": [
    {
     "data": {
      "text/plain": [
       "74455.81459209183"
      ]
     },
     "execution_count": 56,
     "metadata": {},
     "output_type": "execute_result"
    }
   ],
   "source": [
    "visa_df['prevailing_wage'].mean()\n",
    "\n",
    "# read a specific column\n",
    "# we have a mean method"
   ]
  },
  {
   "cell_type": "code",
   "execution_count": 58,
   "id": "ec61a6ee",
   "metadata": {},
   "outputs": [
    {
     "name": "stdout",
     "output_type": "stream",
     "text": [
      "74455.81459209183\n",
      "70308.20999999999\n",
      "2.1367\n",
      "319210.27\n",
      "52814.90589711402\n"
     ]
    }
   ],
   "source": [
    "# np.mean(<specific column data>)\n",
    "print(np.mean(visa_df['prevailing_wage']))\n",
    "print(np.median(visa_df['prevailing_wage']))\n",
    "print(np.min(visa_df['prevailing_wage']))\n",
    "print(np.max(visa_df['prevailing_wage']))\n",
    "print(np.std(visa_df['prevailing_wage']))"
   ]
  },
  {
   "cell_type": "markdown",
   "id": "61889d03",
   "metadata": {},
   "source": [
    "$percentile-Quantile$"
   ]
  },
  {
   "cell_type": "markdown",
   "id": "b0e5da26",
   "metadata": {},
   "source": [
    "- percentile range from 1 to 100\n",
    "- quantile q1=25p q2=50p q3=75\n",
    "- np.percentile(<direct number between 1 to 100>,data)\n",
    "- ex:np.percentile(75,data)\n",
    "- np.quantile(<decimal number>,data)\n",
    "- ex:np.quantile(0.75,data)"
   ]
  },
  {
   "cell_type": "code",
   "execution_count": 66,
   "id": "15ce342b",
   "metadata": {},
   "outputs": [
    {
     "name": "stdout",
     "output_type": "stream",
     "text": [
      "34015.48\n",
      "70308.21\n",
      "107735.51\n"
     ]
    }
   ],
   "source": [
    "q1=round(np.percentile(visa_df['prevailing_wage'],25),2)\n",
    "q2=round(np.percentile(visa_df['prevailing_wage'],50),2)\n",
    "q3=round(np.percentile(visa_df['prevailing_wage'],75),2)\n",
    "print(q1)\n",
    "print(q2)\n",
    "print(q3)\n"
   ]
  },
  {
   "cell_type": "code",
   "execution_count": 67,
   "id": "31975f39",
   "metadata": {},
   "outputs": [
    {
     "name": "stdout",
     "output_type": "stream",
     "text": [
      "34015.48\n",
      "70308.21\n",
      "107735.51\n"
     ]
    }
   ],
   "source": [
    "q1=round(np.quantile(visa_df['prevailing_wage'],0.25),2)\n",
    "q2=round(np.quantile(visa_df['prevailing_wage'],0.50),2)\n",
    "q3=round(np.quantile(visa_df['prevailing_wage'],0.75),2)\n",
    "print(q1)\n",
    "print(q2)\n",
    "print(q3)"
   ]
  },
  {
   "cell_type": "code",
   "execution_count": 74,
   "id": "749700b4",
   "metadata": {},
   "outputs": [
    {
     "name": "stdout",
     "output_type": "stream",
     "text": [
      "['no_of_employees', 'yr_of_estab', 'prevailing_wage']\n"
     ]
    },
    {
     "data": {
      "text/html": [
       "<div>\n",
       "<style scoped>\n",
       "    .dataframe tbody tr th:only-of-type {\n",
       "        vertical-align: middle;\n",
       "    }\n",
       "\n",
       "    .dataframe tbody tr th {\n",
       "        vertical-align: top;\n",
       "    }\n",
       "\n",
       "    .dataframe thead th {\n",
       "        text-align: right;\n",
       "    }\n",
       "</style>\n",
       "<table border=\"1\" class=\"dataframe\">\n",
       "  <thead>\n",
       "    <tr style=\"text-align: right;\">\n",
       "      <th></th>\n",
       "      <th>no_of_employees</th>\n",
       "      <th>yr_of_estab</th>\n",
       "      <th>prevailing_wage</th>\n",
       "    </tr>\n",
       "  </thead>\n",
       "  <tbody>\n",
       "    <tr>\n",
       "      <th>count</th>\n",
       "      <td>25480.00</td>\n",
       "      <td>25480.00</td>\n",
       "      <td>25480.00</td>\n",
       "    </tr>\n",
       "    <tr>\n",
       "      <th>min</th>\n",
       "      <td>-26.00</td>\n",
       "      <td>1800.00</td>\n",
       "      <td>2.14</td>\n",
       "    </tr>\n",
       "    <tr>\n",
       "      <th>max</th>\n",
       "      <td>602069.00</td>\n",
       "      <td>2016.00</td>\n",
       "      <td>319210.27</td>\n",
       "    </tr>\n",
       "    <tr>\n",
       "      <th>mean</th>\n",
       "      <td>5667.04</td>\n",
       "      <td>1979.41</td>\n",
       "      <td>74455.81</td>\n",
       "    </tr>\n",
       "    <tr>\n",
       "      <th>median</th>\n",
       "      <td>2109.00</td>\n",
       "      <td>1997.00</td>\n",
       "      <td>70308.21</td>\n",
       "    </tr>\n",
       "    <tr>\n",
       "      <th>std</th>\n",
       "      <td>22877.93</td>\n",
       "      <td>42.37</td>\n",
       "      <td>52815.94</td>\n",
       "    </tr>\n",
       "    <tr>\n",
       "      <th>25%</th>\n",
       "      <td>1022.00</td>\n",
       "      <td>1976.00</td>\n",
       "      <td>34015.48</td>\n",
       "    </tr>\n",
       "    <tr>\n",
       "      <th>50%</th>\n",
       "      <td>2109.00</td>\n",
       "      <td>1997.00</td>\n",
       "      <td>70308.21</td>\n",
       "    </tr>\n",
       "    <tr>\n",
       "      <th>75%</th>\n",
       "      <td>3504.00</td>\n",
       "      <td>2005.00</td>\n",
       "      <td>107735.51</td>\n",
       "    </tr>\n",
       "  </tbody>\n",
       "</table>\n",
       "</div>"
      ],
      "text/plain": [
       "        no_of_employees  yr_of_estab  prevailing_wage\n",
       "count          25480.00     25480.00         25480.00\n",
       "min              -26.00      1800.00             2.14\n",
       "max           602069.00      2016.00        319210.27\n",
       "mean            5667.04      1979.41         74455.81\n",
       "median          2109.00      1997.00         70308.21\n",
       "std            22877.93        42.37         52815.94\n",
       "25%             1022.00      1976.00         34015.48\n",
       "50%             2109.00      1997.00         70308.21\n",
       "75%             3504.00      2005.00        107735.51"
      ]
     },
     "execution_count": 74,
     "metadata": {},
     "output_type": "execute_result"
    }
   ],
   "source": [
    "dict1={}\n",
    "dtypes=dict(visa_df.dtypes)\n",
    "num=[i for i in dtypes if dtypes[i]!='O']\n",
    "print(num)\n",
    "for i in num:\n",
    "    count=round(visa_df[i].count(),2)\n",
    "    MIN=round(visa_df[i].min(),2)\n",
    "    MAX=round(visa_df[i].max(),2)\n",
    "    mean=round(visa_df[i].mean(),2)\n",
    "    median=round(visa_df[i].median(),2)\n",
    "    std=round(visa_df[i].std(),2)\n",
    "    q1=round(np.percentile(visa_df[i],25),2)\n",
    "    q2=round(np.percentile(visa_df[i],50),2)\n",
    "    q3=round(np.percentile(visa_df[i],75),2)\n",
    "#print(q1)\n",
    "\n",
    "    list1=[count,MIN,MAX,mean,median,std,q1,q2,q3]\n",
    "    dict1[i]=list1\n",
    "    df=pd.DataFrame(dict1,index=['count','min','max','mean','median','std','25%','50%','75%'])\n",
    "df"
   ]
  },
  {
   "cell_type": "code",
   "execution_count": 75,
   "id": "614d39e4",
   "metadata": {},
   "outputs": [
    {
     "data": {
      "text/plain": [
       "34015.48"
      ]
     },
     "execution_count": 75,
     "metadata": {},
     "output_type": "execute_result"
    }
   ],
   "source": [
    "q1=round(np.percentile(visa_df[i],25),2)\n",
    "q1"
   ]
  },
  {
   "cell_type": "markdown",
   "id": "f20b64f8",
   "metadata": {},
   "source": [
    "#### What is the meaning of this"
   ]
  },
  {
   "cell_type": "code",
   "execution_count": null,
   "id": "3c949f1e",
   "metadata": {},
   "outputs": [],
   "source": [
    "25 percentage of observations from the total data\n",
    "have a value below 34015"
   ]
  },
  {
   "cell_type": "code",
   "execution_count": null,
   "id": "a509dff3",
   "metadata": {},
   "outputs": [],
   "source": [
    "total_observation=25480\n",
    "25percentage(25480)\n",
    "25*25480/100=6370\n",
    "\n",
    "6370 people have wages less than 34015"
   ]
  },
  {
   "cell_type": "code",
   "execution_count": 76,
   "id": "2a0ef655",
   "metadata": {},
   "outputs": [
    {
     "data": {
      "text/plain": [
       "6370"
      ]
     },
     "execution_count": 76,
     "metadata": {},
     "output_type": "execute_result"
    }
   ],
   "source": [
    "len(visa_df[visa_df['prevailing_wage']<34015])\n",
    "\n",
    "# how many True =6370"
   ]
  },
  {
   "cell_type": "markdown",
   "id": "7f243253",
   "metadata": {},
   "source": [
    "$Empericle-Rule$"
   ]
  },
  {
   "cell_type": "markdown",
   "id": "6c6c3671",
   "metadata": {},
   "source": [
    "<img src=\"data:image/png;base64,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\" data-deferred=\"1\" class=\"rg_i Q4LuWd\" jsname=\"Q4LuWd\" width=\"512\" height=\"380\" alt=\"Empirical Rule (68-95-99.7) Explained | Built In\" data-iml=\"1171.5\" data-atf=\"true\">"
   ]
  },
  {
   "cell_type": "markdown",
   "id": "21a9ac88",
   "metadata": {},
   "source": [
    "- select an Image\n",
    "- Right click select inspect\n",
    "- click on inspect\n",
    "- Right side you will img src\n",
    "- Right click on img src and select Edit as HTML\n",
    "- dont move the cursor\n",
    "- CTRL+A\n",
    "- CTRL+C\n",
    "- CTRL+V\n",
    "- ESC+M\n",
    "- SHIFT + ENTER"
   ]
  },
  {
   "cell_type": "markdown",
   "id": "ba327c58",
   "metadata": {},
   "source": [
    "**when data follows a normal distribution**"
   ]
  },
  {
   "cell_type": "markdown",
   "id": "c3ea77f0",
   "metadata": {},
   "source": [
    "- u-1 sigma to u+1 sigma:68%\n",
    "- u-2 sigma to u+2 sigma:95%\n",
    "- u-3 sigma to u+3 sigma:99.7%"
   ]
  },
  {
   "cell_type": "code",
   "execution_count": 77,
   "id": "df71617c",
   "metadata": {},
   "outputs": [
    {
     "data": {
      "text/plain": [
       "(74456, 52816)"
      ]
     },
     "execution_count": 77,
     "metadata": {},
     "output_type": "execute_result"
    }
   ],
   "source": [
    "wage_mean,wage_std"
   ]
  },
  {
   "cell_type": "code",
   "execution_count": 78,
   "id": "5b425ed3",
   "metadata": {},
   "outputs": [
    {
     "name": "stdout",
     "output_type": "stream",
     "text": [
      "21640 127272 -31176 180088 -83992 232904\n"
     ]
    }
   ],
   "source": [
    "val_minus_1=round(wage_mean-1*wage_std,2)\n",
    "val_plus_1=round(wage_mean+1*wage_std,2)\n",
    "val_minus_2=round(wage_mean-2*wage_std,2)\n",
    "val_plus_2=round(wage_mean+2*wage_std,2)\n",
    "val_minus_3=round(wage_mean-3*wage_std,2)\n",
    "val_plus_3=round(wage_mean+3*wage_std,2)\n",
    "\n",
    "print(val_minus_1,val_plus_1,val_minus_2,val_plus_2,val_minus_3,val_plus_3)"
   ]
  },
  {
   "cell_type": "code",
   "execution_count": null,
   "id": "3cdec3d5",
   "metadata": {},
   "outputs": [],
   "source": [
    "- 68 percentageof observation have values between[21640 ,127272]\n",
    "- 95 percentageof observation have values between[-31176,180088 ]\n",
    "- 99.7 percentageof observation have values between[-83992 232904]"
   ]
  },
  {
   "cell_type": "code",
   "execution_count": 79,
   "id": "2863f9ac",
   "metadata": {},
   "outputs": [
    {
     "data": {
      "text/plain": [
       "17326.4"
      ]
     },
     "execution_count": 79,
     "metadata": {},
     "output_type": "execute_result"
    }
   ],
   "source": [
    "68*25480/100"
   ]
  },
  {
   "cell_type": "code",
   "execution_count": 94,
   "id": "f45e7969",
   "metadata": {},
   "outputs": [
    {
     "data": {
      "text/plain": [
       "17171"
      ]
     },
     "execution_count": 94,
     "metadata": {},
     "output_type": "execute_result"
    }
   ],
   "source": [
    "con1=visa_df['prevailing_wage']>val_minus_1\n",
    "con2=visa_df['prevailing_wage']<val_plus_1\n",
    "len(visa_df[con1&con2])"
   ]
  },
  {
   "cell_type": "code",
   "execution_count": 95,
   "id": "53903e23",
   "metadata": {},
   "outputs": [
    {
     "data": {
      "text/plain": [
       "0.673901098901099"
      ]
     },
     "execution_count": 95,
     "metadata": {},
     "output_type": "execute_result"
    }
   ],
   "source": [
    "(len(visa_df[con1&con2])/len(visa_df))"
   ]
  },
  {
   "cell_type": "code",
   "execution_count": 96,
   "id": "715c1228",
   "metadata": {},
   "outputs": [
    {
     "data": {
      "text/plain": [
       "24206.0"
      ]
     },
     "execution_count": 96,
     "metadata": {},
     "output_type": "execute_result"
    }
   ],
   "source": [
    "95*25480/100"
   ]
  },
  {
   "cell_type": "code",
   "execution_count": 97,
   "id": "76d238f8",
   "metadata": {},
   "outputs": [
    {
     "data": {
      "text/plain": [
       "24582"
      ]
     },
     "execution_count": 97,
     "metadata": {},
     "output_type": "execute_result"
    }
   ],
   "source": [
    "con1=visa_df['prevailing_wage']>val_minus_2\n",
    "con2=visa_df['prevailing_wage']<val_plus_2\n",
    "len(visa_df[con1&con2])"
   ]
  },
  {
   "cell_type": "code",
   "execution_count": 98,
   "id": "7f959e60",
   "metadata": {},
   "outputs": [
    {
     "data": {
      "text/plain": [
       "0.9647566718995291"
      ]
     },
     "execution_count": 98,
     "metadata": {},
     "output_type": "execute_result"
    }
   ],
   "source": [
    "(len(visa_df[con1&con2])/len(visa_df))"
   ]
  },
  {
   "cell_type": "code",
   "execution_count": 99,
   "id": "76454546",
   "metadata": {},
   "outputs": [
    {
     "data": {
      "text/plain": [
       "25403.56"
      ]
     },
     "execution_count": 99,
     "metadata": {},
     "output_type": "execute_result"
    }
   ],
   "source": [
    "99.7*25480/100"
   ]
  },
  {
   "cell_type": "code",
   "execution_count": 100,
   "id": "cd429f60",
   "metadata": {},
   "outputs": [
    {
     "data": {
      "text/plain": [
       "25186"
      ]
     },
     "execution_count": 100,
     "metadata": {},
     "output_type": "execute_result"
    }
   ],
   "source": [
    "con1=visa_df['prevailing_wage']>val_minus_3\n",
    "con2=visa_df['prevailing_wage']<val_plus_3\n",
    "len(visa_df[con1&con2])"
   ]
  },
  {
   "cell_type": "code",
   "execution_count": 101,
   "id": "084e69d6",
   "metadata": {},
   "outputs": [
    {
     "data": {
      "text/plain": [
       "0.9884615384615385"
      ]
     },
     "execution_count": 101,
     "metadata": {},
     "output_type": "execute_result"
    }
   ],
   "source": [
    "(len(visa_df[con1&con2])/len(visa_df))"
   ]
  },
  {
   "cell_type": "markdown",
   "id": "b60bb5c6",
   "metadata": {},
   "source": [
    "## 14-12-2023"
   ]
  },
  {
   "cell_type": "code",
   "execution_count": 1,
   "id": "a634778d",
   "metadata": {},
   "outputs": [],
   "source": [
    "import pandas as pd\n",
    "import numpy as np\n",
    "import seaborn as sns\n",
    "import matplotlib.pyplot as plt"
   ]
  },
  {
   "cell_type": "code",
   "execution_count": 2,
   "id": "0a5282ff",
   "metadata": {},
   "outputs": [
    {
     "data": {
      "text/html": [
       "<div>\n",
       "<style scoped>\n",
       "    .dataframe tbody tr th:only-of-type {\n",
       "        vertical-align: middle;\n",
       "    }\n",
       "\n",
       "    .dataframe tbody tr th {\n",
       "        vertical-align: top;\n",
       "    }\n",
       "\n",
       "    .dataframe thead th {\n",
       "        text-align: right;\n",
       "    }\n",
       "</style>\n",
       "<table border=\"1\" class=\"dataframe\">\n",
       "  <thead>\n",
       "    <tr style=\"text-align: right;\">\n",
       "      <th></th>\n",
       "      <th>case_id</th>\n",
       "      <th>continent</th>\n",
       "      <th>education_of_employee</th>\n",
       "      <th>has_job_experience</th>\n",
       "      <th>requires_job_training</th>\n",
       "      <th>no_of_employees</th>\n",
       "      <th>yr_of_estab</th>\n",
       "      <th>region_of_employment</th>\n",
       "      <th>prevailing_wage</th>\n",
       "      <th>unit_of_wage</th>\n",
       "      <th>full_time_position</th>\n",
       "      <th>case_status</th>\n",
       "    </tr>\n",
       "  </thead>\n",
       "  <tbody>\n",
       "    <tr>\n",
       "      <th>0</th>\n",
       "      <td>EZYV01</td>\n",
       "      <td>Asia</td>\n",
       "      <td>High School</td>\n",
       "      <td>N</td>\n",
       "      <td>N</td>\n",
       "      <td>14513</td>\n",
       "      <td>2007</td>\n",
       "      <td>West</td>\n",
       "      <td>592.2029</td>\n",
       "      <td>Hour</td>\n",
       "      <td>Y</td>\n",
       "      <td>Denied</td>\n",
       "    </tr>\n",
       "    <tr>\n",
       "      <th>1</th>\n",
       "      <td>EZYV02</td>\n",
       "      <td>Asia</td>\n",
       "      <td>Master's</td>\n",
       "      <td>Y</td>\n",
       "      <td>N</td>\n",
       "      <td>2412</td>\n",
       "      <td>2002</td>\n",
       "      <td>Northeast</td>\n",
       "      <td>83425.6500</td>\n",
       "      <td>Year</td>\n",
       "      <td>Y</td>\n",
       "      <td>Certified</td>\n",
       "    </tr>\n",
       "    <tr>\n",
       "      <th>2</th>\n",
       "      <td>EZYV03</td>\n",
       "      <td>Asia</td>\n",
       "      <td>Bachelor's</td>\n",
       "      <td>N</td>\n",
       "      <td>Y</td>\n",
       "      <td>44444</td>\n",
       "      <td>2008</td>\n",
       "      <td>West</td>\n",
       "      <td>122996.8600</td>\n",
       "      <td>Year</td>\n",
       "      <td>Y</td>\n",
       "      <td>Denied</td>\n",
       "    </tr>\n",
       "    <tr>\n",
       "      <th>3</th>\n",
       "      <td>EZYV04</td>\n",
       "      <td>Asia</td>\n",
       "      <td>Bachelor's</td>\n",
       "      <td>N</td>\n",
       "      <td>N</td>\n",
       "      <td>98</td>\n",
       "      <td>1897</td>\n",
       "      <td>West</td>\n",
       "      <td>83434.0300</td>\n",
       "      <td>Year</td>\n",
       "      <td>Y</td>\n",
       "      <td>Denied</td>\n",
       "    </tr>\n",
       "    <tr>\n",
       "      <th>4</th>\n",
       "      <td>EZYV05</td>\n",
       "      <td>Africa</td>\n",
       "      <td>Master's</td>\n",
       "      <td>Y</td>\n",
       "      <td>N</td>\n",
       "      <td>1082</td>\n",
       "      <td>2005</td>\n",
       "      <td>South</td>\n",
       "      <td>149907.3900</td>\n",
       "      <td>Year</td>\n",
       "      <td>Y</td>\n",
       "      <td>Certified</td>\n",
       "    </tr>\n",
       "    <tr>\n",
       "      <th>...</th>\n",
       "      <td>...</td>\n",
       "      <td>...</td>\n",
       "      <td>...</td>\n",
       "      <td>...</td>\n",
       "      <td>...</td>\n",
       "      <td>...</td>\n",
       "      <td>...</td>\n",
       "      <td>...</td>\n",
       "      <td>...</td>\n",
       "      <td>...</td>\n",
       "      <td>...</td>\n",
       "      <td>...</td>\n",
       "    </tr>\n",
       "    <tr>\n",
       "      <th>25475</th>\n",
       "      <td>EZYV25476</td>\n",
       "      <td>Asia</td>\n",
       "      <td>Bachelor's</td>\n",
       "      <td>Y</td>\n",
       "      <td>Y</td>\n",
       "      <td>2601</td>\n",
       "      <td>2008</td>\n",
       "      <td>South</td>\n",
       "      <td>77092.5700</td>\n",
       "      <td>Year</td>\n",
       "      <td>Y</td>\n",
       "      <td>Certified</td>\n",
       "    </tr>\n",
       "    <tr>\n",
       "      <th>25476</th>\n",
       "      <td>EZYV25477</td>\n",
       "      <td>Asia</td>\n",
       "      <td>High School</td>\n",
       "      <td>Y</td>\n",
       "      <td>N</td>\n",
       "      <td>3274</td>\n",
       "      <td>2006</td>\n",
       "      <td>Northeast</td>\n",
       "      <td>279174.7900</td>\n",
       "      <td>Year</td>\n",
       "      <td>Y</td>\n",
       "      <td>Certified</td>\n",
       "    </tr>\n",
       "    <tr>\n",
       "      <th>25477</th>\n",
       "      <td>EZYV25478</td>\n",
       "      <td>Asia</td>\n",
       "      <td>Master's</td>\n",
       "      <td>Y</td>\n",
       "      <td>N</td>\n",
       "      <td>1121</td>\n",
       "      <td>1910</td>\n",
       "      <td>South</td>\n",
       "      <td>146298.8500</td>\n",
       "      <td>Year</td>\n",
       "      <td>N</td>\n",
       "      <td>Certified</td>\n",
       "    </tr>\n",
       "    <tr>\n",
       "      <th>25478</th>\n",
       "      <td>EZYV25479</td>\n",
       "      <td>Asia</td>\n",
       "      <td>Master's</td>\n",
       "      <td>Y</td>\n",
       "      <td>Y</td>\n",
       "      <td>1918</td>\n",
       "      <td>1887</td>\n",
       "      <td>West</td>\n",
       "      <td>86154.7700</td>\n",
       "      <td>Year</td>\n",
       "      <td>Y</td>\n",
       "      <td>Certified</td>\n",
       "    </tr>\n",
       "    <tr>\n",
       "      <th>25479</th>\n",
       "      <td>EZYV25480</td>\n",
       "      <td>Asia</td>\n",
       "      <td>Bachelor's</td>\n",
       "      <td>Y</td>\n",
       "      <td>N</td>\n",
       "      <td>3195</td>\n",
       "      <td>1960</td>\n",
       "      <td>Midwest</td>\n",
       "      <td>70876.9100</td>\n",
       "      <td>Year</td>\n",
       "      <td>Y</td>\n",
       "      <td>Certified</td>\n",
       "    </tr>\n",
       "  </tbody>\n",
       "</table>\n",
       "<p>25480 rows × 12 columns</p>\n",
       "</div>"
      ],
      "text/plain": [
       "         case_id continent education_of_employee has_job_experience  \\\n",
       "0         EZYV01      Asia           High School                  N   \n",
       "1         EZYV02      Asia              Master's                  Y   \n",
       "2         EZYV03      Asia            Bachelor's                  N   \n",
       "3         EZYV04      Asia            Bachelor's                  N   \n",
       "4         EZYV05    Africa              Master's                  Y   \n",
       "...          ...       ...                   ...                ...   \n",
       "25475  EZYV25476      Asia            Bachelor's                  Y   \n",
       "25476  EZYV25477      Asia           High School                  Y   \n",
       "25477  EZYV25478      Asia              Master's                  Y   \n",
       "25478  EZYV25479      Asia              Master's                  Y   \n",
       "25479  EZYV25480      Asia            Bachelor's                  Y   \n",
       "\n",
       "      requires_job_training  no_of_employees  yr_of_estab  \\\n",
       "0                         N            14513         2007   \n",
       "1                         N             2412         2002   \n",
       "2                         Y            44444         2008   \n",
       "3                         N               98         1897   \n",
       "4                         N             1082         2005   \n",
       "...                     ...              ...          ...   \n",
       "25475                     Y             2601         2008   \n",
       "25476                     N             3274         2006   \n",
       "25477                     N             1121         1910   \n",
       "25478                     Y             1918         1887   \n",
       "25479                     N             3195         1960   \n",
       "\n",
       "      region_of_employment  prevailing_wage unit_of_wage full_time_position  \\\n",
       "0                     West         592.2029         Hour                  Y   \n",
       "1                Northeast       83425.6500         Year                  Y   \n",
       "2                     West      122996.8600         Year                  Y   \n",
       "3                     West       83434.0300         Year                  Y   \n",
       "4                    South      149907.3900         Year                  Y   \n",
       "...                    ...              ...          ...                ...   \n",
       "25475                South       77092.5700         Year                  Y   \n",
       "25476            Northeast      279174.7900         Year                  Y   \n",
       "25477                South      146298.8500         Year                  N   \n",
       "25478                 West       86154.7700         Year                  Y   \n",
       "25479              Midwest       70876.9100         Year                  Y   \n",
       "\n",
       "      case_status  \n",
       "0          Denied  \n",
       "1       Certified  \n",
       "2          Denied  \n",
       "3          Denied  \n",
       "4       Certified  \n",
       "...           ...  \n",
       "25475   Certified  \n",
       "25476   Certified  \n",
       "25477   Certified  \n",
       "25478   Certified  \n",
       "25479   Certified  \n",
       "\n",
       "[25480 rows x 12 columns]"
      ]
     },
     "execution_count": 2,
     "metadata": {},
     "output_type": "execute_result"
    }
   ],
   "source": [
    "file_path=\"C:\\\\Users\\\\hp\\\\Downloads\\\\Visadataset - Visadataset.csv\"\n",
    "visa_df=pd.read_csv(file_path)\n",
    "visa_df"
   ]
  },
  {
   "cell_type": "markdown",
   "id": "cd0a44d5",
   "metadata": {},
   "source": [
    "- we read p_wage column\n",
    "- we perform stastical analysis\n",
    "- we perform empirical rule analysis\n",
    "- empirical rule : 68-95-98\n",
    "- p_wage 67-95-99.7\n",
    "- wage_mean= 74455\n",
    "- wage_median= 70308\n",
    "- median<mean\n",
    "- data might be right skewed \n",
    "- but percentage of data almost valid with empirical \n",
    "- it is look like normal distribution and slightly right skewed\n",
    "- in order to see that draw histogram"
   ]
  },
  {
   "cell_type": "code",
   "execution_count": 4,
   "id": "5ec9eaea",
   "metadata": {},
   "outputs": [
    {
     "data": {
      "text/plain": [
       "(array([2813.,  708.,  725.,  832.,  960.,  993., 1109., 1132., 1108.,\n",
       "        1162., 1184., 1154., 1159., 1117., 1067., 1047.,  953.,  955.,\n",
       "         816.,  780.,  673.,  539.,  469.,  364.,  289.,  211.,  139.,\n",
       "         107.,   81.,   86.,   79.,   87.,   78.,   69.,   60.,   49.,\n",
       "          57.,   52.,   45.,   37.,   28.,   27.,   26.,   20.,   13.,\n",
       "           4.,    5.,    4.,    4.,    4.]),\n",
       " array([2.13670000e+00, 6.38629937e+03, 1.27704620e+04, 1.91546247e+04,\n",
       "        2.55387874e+04, 3.19229500e+04, 3.83071127e+04, 4.46912754e+04,\n",
       "        5.10754380e+04, 5.74596007e+04, 6.38437634e+04, 7.02279260e+04,\n",
       "        7.66120887e+04, 8.29962514e+04, 8.93804140e+04, 9.57645767e+04,\n",
       "        1.02148739e+05, 1.08532902e+05, 1.14917065e+05, 1.21301227e+05,\n",
       "        1.27685390e+05, 1.34069553e+05, 1.40453715e+05, 1.46837878e+05,\n",
       "        1.53222041e+05, 1.59606203e+05, 1.65990366e+05, 1.72374529e+05,\n",
       "        1.78758691e+05, 1.85142854e+05, 1.91527017e+05, 1.97911179e+05,\n",
       "        2.04295342e+05, 2.10679505e+05, 2.17063667e+05, 2.23447830e+05,\n",
       "        2.29831993e+05, 2.36216155e+05, 2.42600318e+05, 2.48984481e+05,\n",
       "        2.55368643e+05, 2.61752806e+05, 2.68136969e+05, 2.74521131e+05,\n",
       "        2.80905294e+05, 2.87289457e+05, 2.93673619e+05, 3.00057782e+05,\n",
       "        3.06441945e+05, 3.12826107e+05, 3.19210270e+05]),\n",
       " <BarContainer object of 50 artists>)"
      ]
     },
     "execution_count": 4,
     "metadata": {},
     "output_type": "execute_result"
    },
    {
     "data": {
      "image/png": "[encoded data removed]",
      "text/plain": [
       "<Figure size 640x480 with 1 Axes>"
      ]
     },
     "metadata": {},
     "output_type": "display_data"
    }
   ],
   "source": [
    "plt.hist(visa_df['prevailing_wage'],bins=50)\n",
    "\n",
    "# by default it will give as 10 intervals\n",
    "# if you want increase the intervals\n",
    "# argument name bins"
   ]
  },
  {
   "cell_type": "code",
   "execution_count": 5,
   "id": "6ce6d6ea",
   "metadata": {},
   "outputs": [
    {
     "data": {
      "text/plain": [
       "(array([2992.,  871., 1005., 1170., 1242., 1434., 1385., 1443., 1444.,\n",
       "        1445., 1457., 1335., 1268., 1217., 1088.,  978.,  807.,  645.,\n",
       "         509.,  373.,  264.,  144.,  105.,  111.,  107.,   99.,   88.,\n",
       "          79.,   65.,   64.,   58.,   53.,   33.,   33.,   29.,   19.,\n",
       "           7.,    3.,    6.,    5.]),\n",
       " array([2.13670000e+00, 7.98234003e+03, 1.59625434e+04, 2.39427467e+04,\n",
       "        3.19229500e+04, 3.99031534e+04, 4.78833567e+04, 5.58635600e+04,\n",
       "        6.38437634e+04, 7.18239667e+04, 7.98041700e+04, 8.77843734e+04,\n",
       "        9.57645767e+04, 1.03744780e+05, 1.11724983e+05, 1.19705187e+05,\n",
       "        1.27685390e+05, 1.35665593e+05, 1.43645797e+05, 1.51626000e+05,\n",
       "        1.59606203e+05, 1.67586407e+05, 1.75566610e+05, 1.83546813e+05,\n",
       "        1.91527017e+05, 1.99507220e+05, 2.07487423e+05, 2.15467627e+05,\n",
       "        2.23447830e+05, 2.31428033e+05, 2.39408237e+05, 2.47388440e+05,\n",
       "        2.55368643e+05, 2.63348847e+05, 2.71329050e+05, 2.79309253e+05,\n",
       "        2.87289457e+05, 2.95269660e+05, 3.03249863e+05, 3.11230067e+05,\n",
       "        3.19210270e+05]),\n",
       " <BarContainer object of 40 artists>)"
      ]
     },
     "execution_count": 5,
     "metadata": {},
     "output_type": "execute_result"
    },
    {
     "data": {
      "image/png": "[encoded data removed]",
      "text/plain": [
       "<Figure size 640x480 with 1 Axes>"
      ]
     },
     "metadata": {},
     "output_type": "display_data"
    }
   ],
   "source": [
    "plt.hist(visa_df['prevailing_wage'],bins=40)"
   ]
  },
  {
   "cell_type": "code",
   "execution_count": 6,
   "id": "776982ec",
   "metadata": {},
   "outputs": [
    {
     "data": {
      "image/png": "[encoded data removed]",
      "text/plain": [
       "<Figure size 640x480 with 1 Axes>"
      ]
     },
     "metadata": {},
     "output_type": "display_data"
    }
   ],
   "source": [
    "plt.hist(visa_df['prevailing_wage'],bins=100)\n",
    "plt.show()"
   ]
  },
  {
   "cell_type": "code",
   "execution_count": 7,
   "id": "e83422f0",
   "metadata": {},
   "outputs": [
    {
     "data": {
      "text/plain": [
       "(array([6038., 5504., 5681., 4551., 2334.,  624.,  373.,  240.,  114.,\n",
       "          21.]),\n",
       " array([2.13670000e+00, 3.19229500e+04, 6.38437634e+04, 9.57645767e+04,\n",
       "        1.27685390e+05, 1.59606203e+05, 1.91527017e+05, 2.23447830e+05,\n",
       "        2.55368643e+05, 2.87289457e+05, 3.19210270e+05]),\n",
       " <BarContainer object of 10 artists>)"
      ]
     },
     "execution_count": 7,
     "metadata": {},
     "output_type": "execute_result"
    },
    {
     "data": {
      "image/png": "[encoded data removed]",
      "text/plain": [
       "<Figure size 640x480 with 1 Axes>"
      ]
     },
     "metadata": {},
     "output_type": "display_data"
    }
   ],
   "source": [
    "plt.hist(visa_df['prevailing_wage'])"
   ]
  },
  {
   "cell_type": "code",
   "execution_count": 10,
   "id": "2441d87b",
   "metadata": {},
   "outputs": [
    {
     "data": {
      "text/plain": [
       "(array([2992.,  871., 1005., 1170., 1242., 1434., 1385., 1443., 1444.,\n",
       "        1445., 1457., 1335., 1268., 1217., 1088.,  978.,  807.,  645.,\n",
       "         509.,  373.,  264.,  144.,  105.,  111.,  107.,   99.,   88.,\n",
       "          79.,   65.,   64.,   58.,   53.,   33.,   33.,   29.,   19.,\n",
       "           7.,    3.,    6.,    5.]),\n",
       " array([2.13670000e+00, 7.98234003e+03, 1.59625434e+04, 2.39427467e+04,\n",
       "        3.19229500e+04, 3.99031534e+04, 4.78833567e+04, 5.58635600e+04,\n",
       "        6.38437634e+04, 7.18239667e+04, 7.98041700e+04, 8.77843734e+04,\n",
       "        9.57645767e+04, 1.03744780e+05, 1.11724983e+05, 1.19705187e+05,\n",
       "        1.27685390e+05, 1.35665593e+05, 1.43645797e+05, 1.51626000e+05,\n",
       "        1.59606203e+05, 1.67586407e+05, 1.75566610e+05, 1.83546813e+05,\n",
       "        1.91527017e+05, 1.99507220e+05, 2.07487423e+05, 2.15467627e+05,\n",
       "        2.23447830e+05, 2.31428033e+05, 2.39408237e+05, 2.47388440e+05,\n",
       "        2.55368643e+05, 2.63348847e+05, 2.71329050e+05, 2.79309253e+05,\n",
       "        2.87289457e+05, 2.95269660e+05, 3.03249863e+05, 3.11230067e+05,\n",
       "        3.19210270e+05]),\n",
       " <BarContainer object of 40 artists>)"
      ]
     },
     "execution_count": 10,
     "metadata": {},
     "output_type": "execute_result"
    },
    {
     "data": {
      "image/png": "[encoded data removed]",
      "text/plain": [
       "<Figure size 640x480 with 1 Axes>"
      ]
     },
     "metadata": {},
     "output_type": "display_data"
    }
   ],
   "source": [
    "plt.hist(visa_df['prevailing_wage'],bins=40,color='red')\n",
    "\n",
    "# 2992 observation are between 2.13670000e+00, 7.98234003e+03,"
   ]
  },
  {
   "cell_type": "code",
   "execution_count": 11,
   "id": "d4e486e5",
   "metadata": {},
   "outputs": [
    {
     "data": {
      "image/png": "[encoded data removed]",
      "text/plain": [
       "<Figure size 640x480 with 1 Axes>"
      ]
     },
     "metadata": {},
     "output_type": "display_data"
    }
   ],
   "source": [
    "frequency, interval,n=plt.hist(visa_df['prevailing_wage'],bins=40)\n",
    "\n",
    "# frequency means number of observation are fall between an interval\n",
    "# interval\n",
    "# n=number of interval"
   ]
  },
  {
   "cell_type": "code",
   "execution_count": 12,
   "id": "9b8994f6",
   "metadata": {},
   "outputs": [
    {
     "data": {
      "text/plain": [
       "40"
      ]
     },
     "execution_count": 12,
     "metadata": {},
     "output_type": "execute_result"
    }
   ],
   "source": [
    "len(frequency)"
   ]
  },
  {
   "cell_type": "code",
   "execution_count": 13,
   "id": "7d776ec8",
   "metadata": {},
   "outputs": [
    {
     "data": {
      "text/plain": [
       "41"
      ]
     },
     "execution_count": 13,
     "metadata": {},
     "output_type": "execute_result"
    }
   ],
   "source": [
    "len(interval)"
   ]
  },
  {
   "cell_type": "code",
   "execution_count": 14,
   "id": "a1d2b49b",
   "metadata": {},
   "outputs": [
    {
     "data": {
      "text/plain": [
       "40"
      ]
     },
     "execution_count": 14,
     "metadata": {},
     "output_type": "execute_result"
    }
   ],
   "source": [
    "len(n)"
   ]
  },
  {
   "cell_type": "code",
   "execution_count": null,
   "id": "bcbe581a",
   "metadata": {},
   "outputs": [],
   "source": [
    "# 2992 observation are between 2.13670000e+00, 7.98234003e+03\n",
    "# verify\n",
    "# step1:write con1=<col>>2.13\n",
    "# step2: write con2=<col><7982.3\n",
    "# step3:con1&con2\n",
    "# step4:col[con1&con2]\n",
    "# step5:len(col[con1&con2])"
   ]
  },
  {
   "cell_type": "code",
   "execution_count": 15,
   "id": "8032fa3d",
   "metadata": {},
   "outputs": [
    {
     "data": {
      "text/plain": [
       "2992"
      ]
     },
     "execution_count": 15,
     "metadata": {},
     "output_type": "execute_result"
    }
   ],
   "source": [
    "c1=visa_df['prevailing_wage']>2.13\n",
    "c2=visa_df['prevailing_wage']<7982.3\n",
    "len(visa_df[c1&c2])"
   ]
  },
  {
   "cell_type": "code",
   "execution_count": 16,
   "id": "e764ded7",
   "metadata": {},
   "outputs": [
    {
     "data": {
      "text/plain": [
       "2992"
      ]
     },
     "execution_count": 16,
     "metadata": {},
     "output_type": "execute_result"
    }
   ],
   "source": [
    "len(visa_df[visa_df['prevailing_wage'].between(2.13,7982.3)])"
   ]
  },
  {
   "cell_type": "code",
   "execution_count": null,
   "id": "417f75f3",
   "metadata": {},
   "outputs": [],
   "source": []
  }
 ],
 "metadata": {
  "kernelspec": {
   "display_name": "Python 3 (ipykernel)",
   "language": "python",
   "name": "python3"
  },
  "language_info": {
   "codemirror_mode": {
    "name": "ipython",
    "version": 3
   },
   "file_extension": ".py",
   "mimetype": "text/x-python",
   "name": "python",
   "nbconvert_exporter": "python",
   "pygments_lexer": "ipython3",
   "version": "3.11.5"
  }
 },
 "nbformat": 4,
 "nbformat_minor": 5
}
